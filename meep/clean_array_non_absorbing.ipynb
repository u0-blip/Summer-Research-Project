{
 "nbformat": 4,
 "nbformat_minor": 2,
 "metadata": {
  "language_info": {
   "name": "python",
   "codemirror_mode": {
    "name": "ipython",
    "version": 3
   },
   "version": "3.7.6-final"
  },
  "orig_nbformat": 2,
  "file_extension": ".py",
  "mimetype": "text/x-python",
  "name": "python",
  "npconvert_exporter": "python",
  "pygments_lexer": "ipython3",
  "version": 3,
  "kernelspec": {
   "name": "python37664bit128f2d1c4255447d880fb507f44b7829",
   "display_name": "Python 3.7.6 64-bit"
  }
 },
 "cells": [
  {
   "cell_type": "code",
   "execution_count": 15,
   "metadata": {},
   "outputs": [],
   "source": [
    "from meep_funcs import *\n",
    "from gen_geo.bounded_voronoi import *\n",
    "import sys\n",
    "from meep_funcs import *\n",
    "from scipy.integrate import romb\n",
    "np.random.seed(15)\n",
    "\n",
    "\n",
    "\n",
    "# dist = float(sys.argv[1])\n",
    "# geo = create_simple_geo(dist)\n",
    "# vor = b_voronoi(120)\n",
    "v_seed_points = np.random.rand(800, 3) - 0.5\n",
    "vor = Voronoi(v_seed_points)\n",
    "my_voronoi_geo = voronoi_geo(100, vor = vor)\n",
    "\n",
    "# sim = create_sim(mode='eps', arg=my_eps, my_voronoi_geo = my_voronoi_geo, res = 50)\n",
    "# get_sim_output(str(sys.argv[2]), sim, length_t = 400, out_every=0.6, get_3_field=False)\n",
    "\n",
    "# out_num_geo('checker_geo.bin', my_checker_geo, range_geo=[1.0,1.0,1.0], range_index=[100,100,100])\n"
   ]
  },
  {
   "cell_type": "code",
   "execution_count": 23,
   "metadata": {},
   "outputs": [],
   "source": [
    "v_seed_points = np.random.rand(3000, 3) - 0.5\n",
    "vor = Voronoi(v_seed_points)\n",
    "my_voronoi_geo = voronoi_geo(100, vor = vor)\n",
    "\n",
    "def absorbing(index):\n",
    "    coord = index2coord(np.array(index), [100, 100, 100], [1, 1, 1])\n",
    "    ass = my_ass(my_voronoi_geo, coord)\n",
    "    if ass == 1:\n",
    "        return True\n",
    "    else:\n",
    "        return False\n",
    "\n",
    "def clean_arr(arr):\n",
    "    only_absorb_array = np.zeros(arr.shape)\n",
    "    for x in range(arr.shape[1]):\n",
    "        for y in range(arr.shape[2]):\n",
    "            for z in range(arr.shape[3]):\n",
    "                if absorbing((x, y, z)):\n",
    "                    only_absorb_array[:, x, y, z] = arr[:, x, y, z] \n",
    "    return only_absorb_array\n",
    "\n",
    "def get_ms(arr, rms_interval):\n",
    "    rms_shape = np.array(arr.shape)\n",
    "    rms_shape[0] = np.floor(rms_shape[0]/rms_interval)\n",
    "    rms_arr = np.zeros(rms_shape.astype(np.int))\n",
    "    for i in range(0, rms_shape[0]):\n",
    "        slice = arr[i*rms_interval:(i+1)*rms_interval]\n",
    "        slice = slice**2\n",
    "        int_slice = romb(slice, dx=1, axis=0)/(rms_interval-1)\n",
    "        # rms_arr[i, :, :, :] = np.sqrt(np.mean(slice, axis=0))\n",
    "        rms_arr[i, :, :, :] = int_slice\n",
    "    return rms_arr\n",
    "\n",
    "add_subfix = lambda name, sub_fix : file_name[0:-4] + sub_fix + file_name[-4:]\n",
    "\n",
    "file_name = 'meep_out/voronoi_120_t_400_res_50.bin'\n",
    "arr = read_windows(file_name)\n"
   ]
  },
  {
   "cell_type": "code",
   "execution_count": 24,
   "metadata": {},
   "outputs": [],
   "source": [
    "# file_name = add_subfix(file_name, '_rms_' + str(rms_interval))\n",
    "file_name = add_subfix(file_name, '_clean')\n",
    "\n",
    "rms_interval = 5\n",
    "clean_arr = clean_arr(arr)\n",
    "rms_arr = get_ms(clean_arr, 5)\n",
    "write_windows(rms_arr, file_name)\n"
   ]
  },
  {
   "cell_type": "code",
   "execution_count": 35,
   "metadata": {},
   "outputs": [
    {
     "data": {
      "text/plain": "(133, 100, 100, 100)"
     },
     "execution_count": 35,
     "metadata": {},
     "output_type": "execute_result"
    }
   ],
   "source": [
    "rms_arr.shape"
   ]
  },
  {
   "cell_type": "code",
   "execution_count": 10,
   "metadata": {},
   "outputs": [
    {
     "data": {
      "text/plain": "11.688888888888888"
     },
     "execution_count": 10,
     "metadata": {},
     "output_type": "execute_result"
    }
   ],
   "source": [
    "romb([1,2,3,4,4])"
   ]
  },
  {
   "cell_type": "code",
   "execution_count": null,
   "metadata": {},
   "outputs": [],
   "source": []
  }
 ]
}